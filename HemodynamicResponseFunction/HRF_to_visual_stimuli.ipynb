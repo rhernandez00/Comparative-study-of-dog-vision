{
  "nbformat": 4,
  "nbformat_minor": 0,
  "metadata": {
    "colab": {
      "provenance": [],
      "include_colab_link": true
    },
    "kernelspec": {
      "display_name": "Python 3",
      "name": "python3"
    },
    "language_info": {
      "name": "python"
    },
    "widgets": {
      "application/vnd.jupyter.widget-state+json": {
        "f10ddee074a641c09672317225c54eba": {
          "model_module": "@jupyter-widgets/controls",
          "model_name": "HBoxModel",
          "model_module_version": "1.5.0",
          "state": {
            "_dom_classes": [],
            "_model_module": "@jupyter-widgets/controls",
            "_model_module_version": "1.5.0",
            "_model_name": "HBoxModel",
            "_view_count": null,
            "_view_module": "@jupyter-widgets/controls",
            "_view_module_version": "1.5.0",
            "_view_name": "HBoxView",
            "box_style": "",
            "children": [
              "IPY_MODEL_25d4405a0c3941cfb965ebf13eb78a76",
              "IPY_MODEL_12707c77d0134561be231126846c339e"
            ],
            "layout": "IPY_MODEL_86eb5ab4f6584a93aed6e08b56d410b0"
          }
        },
        "25d4405a0c3941cfb965ebf13eb78a76": {
          "model_module": "@jupyter-widgets/controls",
          "model_name": "VBoxModel",
          "model_module_version": "1.5.0",
          "state": {
            "_dom_classes": [],
            "_model_module": "@jupyter-widgets/controls",
            "_model_module_version": "1.5.0",
            "_model_name": "VBoxModel",
            "_view_count": null,
            "_view_module": "@jupyter-widgets/controls",
            "_view_module_version": "1.5.0",
            "_view_name": "VBoxView",
            "box_style": "",
            "children": [
              "IPY_MODEL_01499f91811a4430b0553fe40100b5d7",
              "IPY_MODEL_d4e6cacfd0344c27bd8c81b1084ea537",
              "IPY_MODEL_c7c28d3bb0dd44a194f0f15ae5b2fa70"
            ],
            "layout": "IPY_MODEL_8548e3bff3284e7190bb2eaf438808f7"
          }
        },
        "12707c77d0134561be231126846c339e": {
          "model_module": "@jupyter-widgets/controls",
          "model_name": "VBoxModel",
          "model_module_version": "1.5.0",
          "state": {
            "_dom_classes": [],
            "_model_module": "@jupyter-widgets/controls",
            "_model_module_version": "1.5.0",
            "_model_name": "VBoxModel",
            "_view_count": null,
            "_view_module": "@jupyter-widgets/controls",
            "_view_module_version": "1.5.0",
            "_view_name": "VBoxView",
            "box_style": "",
            "children": [
              "IPY_MODEL_214c37c15d07428abc30c502c3ac38ee",
              "IPY_MODEL_00aaa5fb239e46beabfb31cc3642add7",
              "IPY_MODEL_3474ed1855864a8f972c62a753c69dc9"
            ],
            "layout": "IPY_MODEL_d04a71caf1984f2e858ffc8ac70ed5d4"
          }
        },
        "86eb5ab4f6584a93aed6e08b56d410b0": {
          "model_module": "@jupyter-widgets/base",
          "model_name": "LayoutModel",
          "model_module_version": "1.2.0",
          "state": {
            "_model_module": "@jupyter-widgets/base",
            "_model_module_version": "1.2.0",
            "_model_name": "LayoutModel",
            "_view_count": null,
            "_view_module": "@jupyter-widgets/base",
            "_view_module_version": "1.2.0",
            "_view_name": "LayoutView",
            "align_content": null,
            "align_items": null,
            "align_self": null,
            "border": null,
            "bottom": null,
            "display": null,
            "flex": null,
            "flex_flow": null,
            "grid_area": null,
            "grid_auto_columns": null,
            "grid_auto_flow": null,
            "grid_auto_rows": null,
            "grid_column": null,
            "grid_gap": null,
            "grid_row": null,
            "grid_template_areas": null,
            "grid_template_columns": null,
            "grid_template_rows": null,
            "height": null,
            "justify_content": null,
            "justify_items": null,
            "left": null,
            "margin": null,
            "max_height": null,
            "max_width": null,
            "min_height": null,
            "min_width": null,
            "object_fit": null,
            "object_position": null,
            "order": null,
            "overflow": null,
            "overflow_x": null,
            "overflow_y": null,
            "padding": null,
            "right": null,
            "top": null,
            "visibility": null,
            "width": null
          }
        },
        "01499f91811a4430b0553fe40100b5d7": {
          "model_module": "@jupyter-widgets/controls",
          "model_name": "IntSliderModel",
          "model_module_version": "1.5.0",
          "state": {
            "_dom_classes": [],
            "_model_module": "@jupyter-widgets/controls",
            "_model_module_version": "1.5.0",
            "_model_name": "IntSliderModel",
            "_view_count": null,
            "_view_module": "@jupyter-widgets/controls",
            "_view_module_version": "1.5.0",
            "_view_name": "IntSliderView",
            "continuous_update": true,
            "description": "X in dog",
            "description_tooltip": null,
            "disabled": false,
            "layout": "IPY_MODEL_f1b5ff835e194492bcd6b458ed49a345",
            "max": 28,
            "min": -27,
            "orientation": "horizontal",
            "readout": true,
            "readout_format": "d",
            "step": 1,
            "style": "IPY_MODEL_54fcb6f5673d432bba712db6bfb81581",
            "value": 0
          }
        },
        "d4e6cacfd0344c27bd8c81b1084ea537": {
          "model_module": "@jupyter-widgets/controls",
          "model_name": "IntSliderModel",
          "model_module_version": "1.5.0",
          "state": {
            "_dom_classes": [],
            "_model_module": "@jupyter-widgets/controls",
            "_model_module_version": "1.5.0",
            "_model_name": "IntSliderModel",
            "_view_count": null,
            "_view_module": "@jupyter-widgets/controls",
            "_view_module_version": "1.5.0",
            "_view_name": "IntSliderView",
            "continuous_update": true,
            "description": "Y in dog",
            "description_tooltip": null,
            "disabled": false,
            "layout": "IPY_MODEL_1c7aa6357e674f36a3b76c0d148c3ab4",
            "max": 41,
            "min": -59,
            "orientation": "horizontal",
            "readout": true,
            "readout_format": "d",
            "step": 1,
            "style": "IPY_MODEL_a8da58e5c9534dac83534ebbc190d844",
            "value": -29
          }
        },
        "c7c28d3bb0dd44a194f0f15ae5b2fa70": {
          "model_module": "@jupyter-widgets/controls",
          "model_name": "IntSliderModel",
          "model_module_version": "1.5.0",
          "state": {
            "_dom_classes": [],
            "_model_module": "@jupyter-widgets/controls",
            "_model_module_version": "1.5.0",
            "_model_name": "IntSliderModel",
            "_view_count": null,
            "_view_module": "@jupyter-widgets/controls",
            "_view_module_version": "1.5.0",
            "_view_name": "IntSliderView",
            "continuous_update": true,
            "description": "Z in dog",
            "description_tooltip": null,
            "disabled": false,
            "layout": "IPY_MODEL_4dbb6e75a26d4494ae57e81ca9a2b323",
            "max": 31,
            "min": -18,
            "orientation": "horizontal",
            "readout": true,
            "readout_format": "d",
            "step": 1,
            "style": "IPY_MODEL_88393f2fe9bb4cb49a57b70e5b68154b",
            "value": 21
          }
        },
        "8548e3bff3284e7190bb2eaf438808f7": {
          "model_module": "@jupyter-widgets/base",
          "model_name": "LayoutModel",
          "model_module_version": "1.2.0",
          "state": {
            "_model_module": "@jupyter-widgets/base",
            "_model_module_version": "1.2.0",
            "_model_name": "LayoutModel",
            "_view_count": null,
            "_view_module": "@jupyter-widgets/base",
            "_view_module_version": "1.2.0",
            "_view_name": "LayoutView",
            "align_content": null,
            "align_items": null,
            "align_self": null,
            "border": null,
            "bottom": null,
            "display": null,
            "flex": null,
            "flex_flow": null,
            "grid_area": null,
            "grid_auto_columns": null,
            "grid_auto_flow": null,
            "grid_auto_rows": null,
            "grid_column": null,
            "grid_gap": null,
            "grid_row": null,
            "grid_template_areas": null,
            "grid_template_columns": null,
            "grid_template_rows": null,
            "height": null,
            "justify_content": null,
            "justify_items": null,
            "left": null,
            "margin": null,
            "max_height": null,
            "max_width": null,
            "min_height": null,
            "min_width": null,
            "object_fit": null,
            "object_position": null,
            "order": null,
            "overflow": null,
            "overflow_x": null,
            "overflow_y": null,
            "padding": null,
            "right": null,
            "top": null,
            "visibility": null,
            "width": null
          }
        },
        "214c37c15d07428abc30c502c3ac38ee": {
          "model_module": "@jupyter-widgets/controls",
          "model_name": "IntSliderModel",
          "model_module_version": "1.5.0",
          "state": {
            "_dom_classes": [],
            "_model_module": "@jupyter-widgets/controls",
            "_model_module_version": "1.5.0",
            "_model_name": "IntSliderModel",
            "_view_count": null,
            "_view_module": "@jupyter-widgets/controls",
            "_view_module_version": "1.5.0",
            "_view_name": "IntSliderView",
            "continuous_update": true,
            "description": "X in human",
            "description_tooltip": null,
            "disabled": false,
            "layout": "IPY_MODEL_880826b363304582bb3ace0559cc7391",
            "max": 83,
            "min": -83,
            "orientation": "horizontal",
            "readout": true,
            "readout_format": "d",
            "step": 1,
            "style": "IPY_MODEL_2482030c322643d8921e9936635a062a",
            "value": 44
          }
        },
        "00aaa5fb239e46beabfb31cc3642add7": {
          "model_module": "@jupyter-widgets/controls",
          "model_name": "IntSliderModel",
          "model_module_version": "1.5.0",
          "state": {
            "_dom_classes": [],
            "_model_module": "@jupyter-widgets/controls",
            "_model_module_version": "1.5.0",
            "_model_name": "IntSliderModel",
            "_view_count": null,
            "_view_module": "@jupyter-widgets/controls",
            "_view_module_version": "1.5.0",
            "_view_name": "IntSliderView",
            "continuous_update": true,
            "description": "Y in human",
            "description_tooltip": null,
            "disabled": false,
            "layout": "IPY_MODEL_a1085ebd32d2463eabc1dd9d613b4d83",
            "max": 82,
            "min": -110,
            "orientation": "horizontal",
            "readout": true,
            "readout_format": "d",
            "step": 1,
            "style": "IPY_MODEL_5ebd2415a2d741dc9883b6704826e431",
            "value": -74
          }
        },
        "3474ed1855864a8f972c62a753c69dc9": {
          "model_module": "@jupyter-widgets/controls",
          "model_name": "IntSliderModel",
          "model_module_version": "1.5.0",
          "state": {
            "_dom_classes": [],
            "_model_module": "@jupyter-widgets/controls",
            "_model_module_version": "1.5.0",
            "_model_name": "IntSliderModel",
            "_view_count": null,
            "_view_module": "@jupyter-widgets/controls",
            "_view_module_version": "1.5.0",
            "_view_name": "IntSliderView",
            "continuous_update": true,
            "description": "Z in human",
            "description_tooltip": null,
            "disabled": false,
            "layout": "IPY_MODEL_2af6f21c399d4c228e080eac1fec494f",
            "max": 80,
            "min": -50,
            "orientation": "horizontal",
            "readout": true,
            "readout_format": "d",
            "step": 1,
            "style": "IPY_MODEL_572c14e2018c4aadb2efea4606e3b148",
            "value": -2
          }
        },
        "d04a71caf1984f2e858ffc8ac70ed5d4": {
          "model_module": "@jupyter-widgets/base",
          "model_name": "LayoutModel",
          "model_module_version": "1.2.0",
          "state": {
            "_model_module": "@jupyter-widgets/base",
            "_model_module_version": "1.2.0",
            "_model_name": "LayoutModel",
            "_view_count": null,
            "_view_module": "@jupyter-widgets/base",
            "_view_module_version": "1.2.0",
            "_view_name": "LayoutView",
            "align_content": null,
            "align_items": null,
            "align_self": null,
            "border": null,
            "bottom": null,
            "display": null,
            "flex": null,
            "flex_flow": null,
            "grid_area": null,
            "grid_auto_columns": null,
            "grid_auto_flow": null,
            "grid_auto_rows": null,
            "grid_column": null,
            "grid_gap": null,
            "grid_row": null,
            "grid_template_areas": null,
            "grid_template_columns": null,
            "grid_template_rows": null,
            "height": null,
            "justify_content": null,
            "justify_items": null,
            "left": null,
            "margin": null,
            "max_height": null,
            "max_width": null,
            "min_height": null,
            "min_width": null,
            "object_fit": null,
            "object_position": null,
            "order": null,
            "overflow": null,
            "overflow_x": null,
            "overflow_y": null,
            "padding": null,
            "right": null,
            "top": null,
            "visibility": null,
            "width": null
          }
        },
        "f1b5ff835e194492bcd6b458ed49a345": {
          "model_module": "@jupyter-widgets/base",
          "model_name": "LayoutModel",
          "model_module_version": "1.2.0",
          "state": {
            "_model_module": "@jupyter-widgets/base",
            "_model_module_version": "1.2.0",
            "_model_name": "LayoutModel",
            "_view_count": null,
            "_view_module": "@jupyter-widgets/base",
            "_view_module_version": "1.2.0",
            "_view_name": "LayoutView",
            "align_content": null,
            "align_items": null,
            "align_self": null,
            "border": null,
            "bottom": null,
            "display": null,
            "flex": null,
            "flex_flow": null,
            "grid_area": null,
            "grid_auto_columns": null,
            "grid_auto_flow": null,
            "grid_auto_rows": null,
            "grid_column": null,
            "grid_gap": null,
            "grid_row": null,
            "grid_template_areas": null,
            "grid_template_columns": null,
            "grid_template_rows": null,
            "height": null,
            "justify_content": null,
            "justify_items": null,
            "left": null,
            "margin": null,
            "max_height": null,
            "max_width": null,
            "min_height": null,
            "min_width": null,
            "object_fit": null,
            "object_position": null,
            "order": null,
            "overflow": null,
            "overflow_x": null,
            "overflow_y": null,
            "padding": null,
            "right": null,
            "top": null,
            "visibility": null,
            "width": null
          }
        },
        "54fcb6f5673d432bba712db6bfb81581": {
          "model_module": "@jupyter-widgets/controls",
          "model_name": "SliderStyleModel",
          "model_module_version": "1.5.0",
          "state": {
            "_model_module": "@jupyter-widgets/controls",
            "_model_module_version": "1.5.0",
            "_model_name": "SliderStyleModel",
            "_view_count": null,
            "_view_module": "@jupyter-widgets/base",
            "_view_module_version": "1.2.0",
            "_view_name": "StyleView",
            "description_width": "",
            "handle_color": null
          }
        },
        "1c7aa6357e674f36a3b76c0d148c3ab4": {
          "model_module": "@jupyter-widgets/base",
          "model_name": "LayoutModel",
          "model_module_version": "1.2.0",
          "state": {
            "_model_module": "@jupyter-widgets/base",
            "_model_module_version": "1.2.0",
            "_model_name": "LayoutModel",
            "_view_count": null,
            "_view_module": "@jupyter-widgets/base",
            "_view_module_version": "1.2.0",
            "_view_name": "LayoutView",
            "align_content": null,
            "align_items": null,
            "align_self": null,
            "border": null,
            "bottom": null,
            "display": null,
            "flex": null,
            "flex_flow": null,
            "grid_area": null,
            "grid_auto_columns": null,
            "grid_auto_flow": null,
            "grid_auto_rows": null,
            "grid_column": null,
            "grid_gap": null,
            "grid_row": null,
            "grid_template_areas": null,
            "grid_template_columns": null,
            "grid_template_rows": null,
            "height": null,
            "justify_content": null,
            "justify_items": null,
            "left": null,
            "margin": null,
            "max_height": null,
            "max_width": null,
            "min_height": null,
            "min_width": null,
            "object_fit": null,
            "object_position": null,
            "order": null,
            "overflow": null,
            "overflow_x": null,
            "overflow_y": null,
            "padding": null,
            "right": null,
            "top": null,
            "visibility": null,
            "width": null
          }
        },
        "a8da58e5c9534dac83534ebbc190d844": {
          "model_module": "@jupyter-widgets/controls",
          "model_name": "SliderStyleModel",
          "model_module_version": "1.5.0",
          "state": {
            "_model_module": "@jupyter-widgets/controls",
            "_model_module_version": "1.5.0",
            "_model_name": "SliderStyleModel",
            "_view_count": null,
            "_view_module": "@jupyter-widgets/base",
            "_view_module_version": "1.2.0",
            "_view_name": "StyleView",
            "description_width": "",
            "handle_color": null
          }
        },
        "4dbb6e75a26d4494ae57e81ca9a2b323": {
          "model_module": "@jupyter-widgets/base",
          "model_name": "LayoutModel",
          "model_module_version": "1.2.0",
          "state": {
            "_model_module": "@jupyter-widgets/base",
            "_model_module_version": "1.2.0",
            "_model_name": "LayoutModel",
            "_view_count": null,
            "_view_module": "@jupyter-widgets/base",
            "_view_module_version": "1.2.0",
            "_view_name": "LayoutView",
            "align_content": null,
            "align_items": null,
            "align_self": null,
            "border": null,
            "bottom": null,
            "display": null,
            "flex": null,
            "flex_flow": null,
            "grid_area": null,
            "grid_auto_columns": null,
            "grid_auto_flow": null,
            "grid_auto_rows": null,
            "grid_column": null,
            "grid_gap": null,
            "grid_row": null,
            "grid_template_areas": null,
            "grid_template_columns": null,
            "grid_template_rows": null,
            "height": null,
            "justify_content": null,
            "justify_items": null,
            "left": null,
            "margin": null,
            "max_height": null,
            "max_width": null,
            "min_height": null,
            "min_width": null,
            "object_fit": null,
            "object_position": null,
            "order": null,
            "overflow": null,
            "overflow_x": null,
            "overflow_y": null,
            "padding": null,
            "right": null,
            "top": null,
            "visibility": null,
            "width": null
          }
        },
        "88393f2fe9bb4cb49a57b70e5b68154b": {
          "model_module": "@jupyter-widgets/controls",
          "model_name": "SliderStyleModel",
          "model_module_version": "1.5.0",
          "state": {
            "_model_module": "@jupyter-widgets/controls",
            "_model_module_version": "1.5.0",
            "_model_name": "SliderStyleModel",
            "_view_count": null,
            "_view_module": "@jupyter-widgets/base",
            "_view_module_version": "1.2.0",
            "_view_name": "StyleView",
            "description_width": "",
            "handle_color": null
          }
        },
        "880826b363304582bb3ace0559cc7391": {
          "model_module": "@jupyter-widgets/base",
          "model_name": "LayoutModel",
          "model_module_version": "1.2.0",
          "state": {
            "_model_module": "@jupyter-widgets/base",
            "_model_module_version": "1.2.0",
            "_model_name": "LayoutModel",
            "_view_count": null,
            "_view_module": "@jupyter-widgets/base",
            "_view_module_version": "1.2.0",
            "_view_name": "LayoutView",
            "align_content": null,
            "align_items": null,
            "align_self": null,
            "border": null,
            "bottom": null,
            "display": null,
            "flex": null,
            "flex_flow": null,
            "grid_area": null,
            "grid_auto_columns": null,
            "grid_auto_flow": null,
            "grid_auto_rows": null,
            "grid_column": null,
            "grid_gap": null,
            "grid_row": null,
            "grid_template_areas": null,
            "grid_template_columns": null,
            "grid_template_rows": null,
            "height": null,
            "justify_content": null,
            "justify_items": null,
            "left": null,
            "margin": null,
            "max_height": null,
            "max_width": null,
            "min_height": null,
            "min_width": null,
            "object_fit": null,
            "object_position": null,
            "order": null,
            "overflow": null,
            "overflow_x": null,
            "overflow_y": null,
            "padding": null,
            "right": null,
            "top": null,
            "visibility": null,
            "width": null
          }
        },
        "2482030c322643d8921e9936635a062a": {
          "model_module": "@jupyter-widgets/controls",
          "model_name": "SliderStyleModel",
          "model_module_version": "1.5.0",
          "state": {
            "_model_module": "@jupyter-widgets/controls",
            "_model_module_version": "1.5.0",
            "_model_name": "SliderStyleModel",
            "_view_count": null,
            "_view_module": "@jupyter-widgets/base",
            "_view_module_version": "1.2.0",
            "_view_name": "StyleView",
            "description_width": "",
            "handle_color": null
          }
        },
        "a1085ebd32d2463eabc1dd9d613b4d83": {
          "model_module": "@jupyter-widgets/base",
          "model_name": "LayoutModel",
          "model_module_version": "1.2.0",
          "state": {
            "_model_module": "@jupyter-widgets/base",
            "_model_module_version": "1.2.0",
            "_model_name": "LayoutModel",
            "_view_count": null,
            "_view_module": "@jupyter-widgets/base",
            "_view_module_version": "1.2.0",
            "_view_name": "LayoutView",
            "align_content": null,
            "align_items": null,
            "align_self": null,
            "border": null,
            "bottom": null,
            "display": null,
            "flex": null,
            "flex_flow": null,
            "grid_area": null,
            "grid_auto_columns": null,
            "grid_auto_flow": null,
            "grid_auto_rows": null,
            "grid_column": null,
            "grid_gap": null,
            "grid_row": null,
            "grid_template_areas": null,
            "grid_template_columns": null,
            "grid_template_rows": null,
            "height": null,
            "justify_content": null,
            "justify_items": null,
            "left": null,
            "margin": null,
            "max_height": null,
            "max_width": null,
            "min_height": null,
            "min_width": null,
            "object_fit": null,
            "object_position": null,
            "order": null,
            "overflow": null,
            "overflow_x": null,
            "overflow_y": null,
            "padding": null,
            "right": null,
            "top": null,
            "visibility": null,
            "width": null
          }
        },
        "5ebd2415a2d741dc9883b6704826e431": {
          "model_module": "@jupyter-widgets/controls",
          "model_name": "SliderStyleModel",
          "model_module_version": "1.5.0",
          "state": {
            "_model_module": "@jupyter-widgets/controls",
            "_model_module_version": "1.5.0",
            "_model_name": "SliderStyleModel",
            "_view_count": null,
            "_view_module": "@jupyter-widgets/base",
            "_view_module_version": "1.2.0",
            "_view_name": "StyleView",
            "description_width": "",
            "handle_color": null
          }
        },
        "2af6f21c399d4c228e080eac1fec494f": {
          "model_module": "@jupyter-widgets/base",
          "model_name": "LayoutModel",
          "model_module_version": "1.2.0",
          "state": {
            "_model_module": "@jupyter-widgets/base",
            "_model_module_version": "1.2.0",
            "_model_name": "LayoutModel",
            "_view_count": null,
            "_view_module": "@jupyter-widgets/base",
            "_view_module_version": "1.2.0",
            "_view_name": "LayoutView",
            "align_content": null,
            "align_items": null,
            "align_self": null,
            "border": null,
            "bottom": null,
            "display": null,
            "flex": null,
            "flex_flow": null,
            "grid_area": null,
            "grid_auto_columns": null,
            "grid_auto_flow": null,
            "grid_auto_rows": null,
            "grid_column": null,
            "grid_gap": null,
            "grid_row": null,
            "grid_template_areas": null,
            "grid_template_columns": null,
            "grid_template_rows": null,
            "height": null,
            "justify_content": null,
            "justify_items": null,
            "left": null,
            "margin": null,
            "max_height": null,
            "max_width": null,
            "min_height": null,
            "min_width": null,
            "object_fit": null,
            "object_position": null,
            "order": null,
            "overflow": null,
            "overflow_x": null,
            "overflow_y": null,
            "padding": null,
            "right": null,
            "top": null,
            "visibility": null,
            "width": null
          }
        },
        "572c14e2018c4aadb2efea4606e3b148": {
          "model_module": "@jupyter-widgets/controls",
          "model_name": "SliderStyleModel",
          "model_module_version": "1.5.0",
          "state": {
            "_model_module": "@jupyter-widgets/controls",
            "_model_module_version": "1.5.0",
            "_model_name": "SliderStyleModel",
            "_view_count": null,
            "_view_module": "@jupyter-widgets/base",
            "_view_module_version": "1.2.0",
            "_view_name": "StyleView",
            "description_width": "",
            "handle_color": null
          }
        },
        "4ae1daf2e00342d7b553518a75df8a22": {
          "model_module": "@jupyter-widgets/output",
          "model_name": "OutputModel",
          "model_module_version": "1.0.0",
          "state": {
            "_dom_classes": [],
            "_model_module": "@jupyter-widgets/output",
            "_model_module_version": "1.0.0",
            "_model_name": "OutputModel",
            "_view_count": null,
            "_view_module": "@jupyter-widgets/output",
            "_view_module_version": "1.0.0",
            "_view_name": "OutputView",
            "layout": "IPY_MODEL_d0302222f8b04ac9a0a061a251bd2c58",
            "msg_id": "",
            "outputs": [
              {
                "output_type": "display_data",
                "data": {
                  "text/plain": "<Figure size 475.2x187.2 with 4 Axes>",
                  "image/png": "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\n"
                },
                "metadata": {}
              },
              {
                "output_type": "display_data",
                "data": {
                  "text/plain": "<Figure size 475.2x187.2 with 4 Axes>",
                  "image/png": "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\n"
                },
                "metadata": {}
              },
              {
                "output_type": "display_data",
                "data": {
                  "text/plain": "<Figure size 540x388.8 with 1 Axes>",
                  "image/png": "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\n"
                },
                "metadata": {
                  "needs_background": "light"
                }
              }
            ]
          }
        },
        "d0302222f8b04ac9a0a061a251bd2c58": {
          "model_module": "@jupyter-widgets/base",
          "model_name": "LayoutModel",
          "model_module_version": "1.2.0",
          "state": {
            "_model_module": "@jupyter-widgets/base",
            "_model_module_version": "1.2.0",
            "_model_name": "LayoutModel",
            "_view_count": null,
            "_view_module": "@jupyter-widgets/base",
            "_view_module_version": "1.2.0",
            "_view_name": "LayoutView",
            "align_content": null,
            "align_items": null,
            "align_self": null,
            "border": null,
            "bottom": null,
            "display": null,
            "flex": null,
            "flex_flow": null,
            "grid_area": null,
            "grid_auto_columns": null,
            "grid_auto_flow": null,
            "grid_auto_rows": null,
            "grid_column": null,
            "grid_gap": null,
            "grid_row": null,
            "grid_template_areas": null,
            "grid_template_columns": null,
            "grid_template_rows": null,
            "height": null,
            "justify_content": null,
            "justify_items": null,
            "left": null,
            "margin": null,
            "max_height": null,
            "max_width": null,
            "min_height": null,
            "min_width": null,
            "object_fit": null,
            "object_position": null,
            "order": null,
            "overflow": null,
            "overflow_x": null,
            "overflow_y": null,
            "padding": null,
            "right": null,
            "top": null,
            "visibility": null,
            "width": null
          }
        }
      }
    }
  },
  "cells": [
    {
      "cell_type": "markdown",
      "metadata": {
        "id": "view-in-github",
        "colab_type": "text"
      },
      "source": [
        "<a href=\"https://colab.research.google.com/github/rhernandez00/Comparative-study-of-dog-vision/blob/main/HemodynamicResponseFunction/HRF_to_visual_stimuli.ipynb\" target=\"_parent\"><img src=\"https://colab.research.google.com/assets/colab-badge.svg\" alt=\"Open In Colab\"/></a>"
      ]
    },
    {
      "cell_type": "markdown",
      "metadata": {
        "id": "tdDHevPuvmBu"
      },
      "source": [
        "# Hemodynamic response to visual stimuli in humans and dogs"
      ]
    },
    {
      "cell_type": "markdown",
      "metadata": {
        "id": "s-58jNECvRnB"
      },
      "source": [
        "This notebook will show you the hemodynamic response to a visual stimuli in the coordinate you select. To use it, go to the top, select Runtime and then Run all (or run every block independently and in order by clicking the \"play\" button on the left of each of them). The whole process should take about 5 minutes and it runs free on Google's servers."
      ]
    },
    {
      "cell_type": "markdown",
      "metadata": {
        "id": "MyO_M5HCxbZU"
      },
      "source": [
        "## Imports"
      ]
    },
    {
      "cell_type": "code",
      "metadata": {
        "collapsed": true,
        "id": "3PQYmiAPUgHN",
        "colab": {
          "base_uri": "https://localhost:8080/",
          "height": 134
        },
        "outputId": "8c104ebe-3d55-4dc0-93f2-95700274e1c5"
      },
      "source": [
        "#@title\n",
        "pip install nilearn"
      ],
      "execution_count": 8,
      "outputs": [
        {
          "output_type": "error",
          "ename": "SyntaxError",
          "evalue": "ignored",
          "traceback": [
            "\u001b[0;36m  File \u001b[0;32m\"<ipython-input-8-aca3d95e3bba>\"\u001b[0;36m, line \u001b[0;32m2\u001b[0m\n\u001b[0;31m    pip install nilearn &> /dev/null\u001b[0m\n\u001b[0m        ^\u001b[0m\n\u001b[0;31mSyntaxError\u001b[0m\u001b[0;31m:\u001b[0m invalid syntax\n"
          ]
        }
      ]
    },
    {
      "cell_type": "code",
      "source": [
        "pip install --upgrade matplotlib"
      ],
      "metadata": {
        "colab": {
          "base_uri": "https://localhost:8080/"
        },
        "id": "xeiuBK_e6N4C",
        "outputId": "74b46adc-6001-46fc-8784-5f8bc8a1b426"
      },
      "execution_count": 10,
      "outputs": [
        {
          "output_type": "stream",
          "name": "stdout",
          "text": [
            "Looking in indexes: https://pypi.org/simple, https://us-python.pkg.dev/colab-wheels/public/simple/\n",
            "Requirement already satisfied: matplotlib in /usr/local/lib/python3.8/dist-packages (3.6.3)\n",
            "Requirement already satisfied: pillow>=6.2.0 in /usr/local/lib/python3.8/dist-packages (from matplotlib) (7.1.2)\n",
            "Requirement already satisfied: python-dateutil>=2.7 in /usr/local/lib/python3.8/dist-packages (from matplotlib) (2.8.2)\n",
            "Requirement already satisfied: pyparsing>=2.2.1 in /usr/local/lib/python3.8/dist-packages (from matplotlib) (3.0.9)\n",
            "Requirement already satisfied: fonttools>=4.22.0 in /usr/local/lib/python3.8/dist-packages (from matplotlib) (4.38.0)\n",
            "Requirement already satisfied: kiwisolver>=1.0.1 in /usr/local/lib/python3.8/dist-packages (from matplotlib) (1.4.4)\n",
            "Requirement already satisfied: packaging>=20.0 in /usr/local/lib/python3.8/dist-packages (from matplotlib) (21.3)\n",
            "Requirement already satisfied: cycler>=0.10 in /usr/local/lib/python3.8/dist-packages (from matplotlib) (0.11.0)\n",
            "Requirement already satisfied: numpy>=1.19 in /usr/local/lib/python3.8/dist-packages (from matplotlib) (1.21.6)\n",
            "Requirement already satisfied: contourpy>=1.0.1 in /usr/local/lib/python3.8/dist-packages (from matplotlib) (1.0.7)\n",
            "Requirement already satisfied: six>=1.5 in /usr/local/lib/python3.8/dist-packages (from python-dateutil>=2.7->matplotlib) (1.15.0)\n"
          ]
        }
      ]
    },
    {
      "cell_type": "code",
      "metadata": {
        "colab": {
          "base_uri": "https://localhost:8080/"
        },
        "id": "b3plUfWKxV1K",
        "collapsed": true,
        "outputId": "d04af0f9-69c5-4ab0-f17b-d8df178aa54a"
      },
      "source": [
        "# Some imports\n",
        "from __future__ import print_function\n",
        "from ipywidgets import interact, interactive, fixed, interact_manual\n",
        "import nibabel as nib\n",
        "import ipywidgets as widgets\n",
        "from ipywidgets import HBox,VBox\n",
        "from nilearn import image\n",
        "from copy import deepcopy\n",
        "import numpy as np\n",
        "from scipy import stats\n",
        "import matplotlib.pyplot as plt\n",
        "from nilearn.plotting import plot_anat, show\n",
        "import warnings\n",
        "warnings.filterwarnings('ignore')\n",
        "\n",
        "\n",
        "print('Downloading files from server')\n",
        "# downloading the results\n",
        "!gdown '1FvmZMDOYAMQuPUKzwtP01CVUQJED3h8s&confirm=t' &> /dev/null #dog average data\n",
        "!gdown '1jtiCkOIX2visobXKhm8FXrDjiqBud2Np&confirm=t' &> /dev/null #dog error data\n",
        "!gdown '1GA4YwMryE1tGOc8adNCbbXXf3oqFCkKH&confirm=t' &> /dev/null #human average data\n",
        "!gdown '1G_WIaW_hJHfKu47_a_oR2L_ETBKwhd14&confirm=t' &> /dev/null #human error data\n",
        "\n",
        "!gdown '1Gk3OPS78RZLt5ACGnkKHpxaauUmtJi25' &> /dev/null #MNI nifti file to use as base\n",
        "!gdown '1Gj6lMMoLNWY3kUqINg4r3AlX8K703O9N' &> /dev/null #Dog atlas to use as base\n",
        "\n",
        "print('Loading files into RAM...')\n",
        "\n",
        "filesPath = '/content'\n",
        "speciesPossible = ['D','H']\n",
        "imgTypes = ['err','mean']\n",
        "\n",
        "niiDict = dict() #this dictionary will contain all 4D images\n",
        "for specie in speciesPossible:\n",
        "    niiDict[specie] = dict()\n",
        "    for imgType in imgTypes:\n",
        "        fileName = filesPath + '/' + specie + '_HRF_4D' + imgType + '.nii.gz'\n",
        "        niiDict[specie][imgType] = np.array(nib.load(fileName).dataobj)\n",
        "        print(fileName + ' loaded')"
      ],
      "execution_count": 1,
      "outputs": [
        {
          "output_type": "stream",
          "name": "stdout",
          "text": [
            "Downloading files from server\n",
            "Loading files to RAM...\n"
          ]
        }
      ]
    },
    {
      "cell_type": "markdown",
      "metadata": {
        "id": "bX2rm3qSu96y"
      },
      "source": [
        "## Some functions and code for the script to work"
      ]
    },
    {
      "cell_type": "code",
      "metadata": {
        "id": "ZrA5CuXmTh4q"
      },
      "source": [
        "#list of colors. These colors are the same across the experiment in every figure.\n",
        "colors = [(0.5,0.5,0.5), #grey\n",
        "          (120.0/255.0,158.0/255.0,2.0/255.0), \n",
        "          (72.0/255.0,144.0/255.0,223.0/255.0), \n",
        "          (252.0/255.0,42.0/255.0,180.0/255.0),  \n",
        "          (0.0,0.0,0.0)]\n",
        "\n",
        "def plotHRF(xVoxD,yVoxD,zVoxD,xVoxH,yVoxH,zVoxH,nColor=2,nColor2=3):\n",
        "  #Plots the HRF in the voxels xVox, yVox, zVox for each specie\n",
        "  #creating timeLine\n",
        "  \n",
        "  #setting up colors\n",
        "  colorD = colors[nColor]\n",
        "  colorH = colors[nColor2]\n",
        "\n",
        "  voxDict = {'D': {'x':xVoxD, 'y':yVoxD, 'z':zVoxD}, 'H': {'x':xVoxH, 'y':yVoxH, 'z':zVoxH}}\n",
        "  valDict = dict()\n",
        "  for specie in speciesPossible:\n",
        "    valDict[specie] = dict()\n",
        "    for imgType in imgTypes:\n",
        "      valDict[specie][imgType] =  niiDict[specie][imgType][voxDict[specie]['x'],voxDict[specie]['y'],voxDict[specie]['z'],:]\n",
        "  \n",
        "  fig, ax = plt.subplots(1, 1, figsize=(7.5, 5.4)); #creating axis for fig\n",
        "  \n",
        "  #plotting  HRF\n",
        "  lineD = ax.plot(timeLine,valDict['D']['mean'],color=colorD, label='Dog');\n",
        "  lineH = ax.plot(timeLine,valDict['H']['mean'],color=colorH, label='Human')\n",
        "\n",
        "  ax.fill_between(timeLine,valDict['D']['mean']+valDict['D']['err'],valDict['D']['mean']-valDict['D']['err'], alpha=0.4, color=colorD)\n",
        "  ax.fill_between(timeLine,valDict['H']['mean']+valDict['H']['err'],valDict['H']['mean']-valDict['H']['err'], alpha=0.4, color=colorH)\n",
        "  plt.ylim([minY,maxY])\n",
        "  \n",
        "  #plotting stimuli time\n",
        "  ax.fill_between(timeLine,np.min(timeLine),np.max(timeLine),\n",
        "                  where=(timeLine > 0) & (timeLine < minDuration),\n",
        "                  alpha=0.3, color=[0,0,0], label='All videos are visible')\n",
        "  ax.fill_between(timeLine,np.min(timeLine),np.max(timeLine),\n",
        "                  where=(timeLine > minDuration) & (timeLine < maxDuration),\n",
        "                  alpha=0.15, color=[0,0,0], label='Some videos are visible')\n",
        "  \n",
        "  plt.legend()\n",
        "  \n",
        "  ax.set_xlabel('Time (s)');\n",
        "  ax.set_ylabel('Average z-score');\n",
        "  \n",
        "  plt.show()\n",
        "\n",
        "def plotBrain(xD,yD,zD,xH,yH,zH):\n",
        "  #updates coordinates to use and plots the slices\n",
        "  positionD = coordinatesToVoxel([xD,yD,zD], ref= atlasFileD)\n",
        "  positionH = coordinatesToVoxel([xH,yH,zH], ref= atlasFileH)\n",
        "\n",
        "  display = plot_anat(imgD, display_mode='ortho', cut_coords=[xD,yD,zD], draw_cross=True,vmin=vminD, vmax=vmaxD, title='Dog');\n",
        "  display = plot_anat(imgH, display_mode='ortho', cut_coords=[xH,yH,zH], draw_cross=True,vmin=vminH, vmax=vmaxH, title='Human');\n",
        "  plotHRF(positionD[0],positionD[1],positionD[2],positionH[0],positionH[1],positionH[2]);\n",
        "\n",
        "def coordinatesToVoxel(coords,ref='Barney2mm'):\n",
        "  #print('Reference used: ' + ref)\n",
        "  baseX,baseY,baseZ,resolution = getBaseVals(ref)\n",
        "  coordsVox = []\n",
        "  if ref == 'Barney2mm': #dogs\n",
        "    coordsVox.append((coords[0]/resolution) + baseX)\n",
        "    coordsVox.append((coords[1]/resolution) + baseY)\n",
        "    coordsVox.append((coords[2]/resolution) + baseZ)\n",
        "  elif ref == 'MNI2mm': #humans\n",
        "    coordsVox.append((-1*(coords[0]/resolution) + baseX))\n",
        "    #coordsVox.append(((coords[0]/resolution) + baseX))\n",
        "    coordsVox.append((coords[1]/resolution) + baseY)\n",
        "    coordsVox.append((coords[2]/resolution) + baseZ)\n",
        "  for i,val in enumerate(coordsVox): coordsVox[i] = int(val) \n",
        "  return coordsVox\n",
        "\n",
        "def getBaseVals(ref):\n",
        "  if ref == 'Barney2mm': #dogs\n",
        "    baseX,baseY,baseZ = 15.5, 29.5, 12.0\n",
        "    resolution = 2\n",
        "  elif ref == 'MNI2mm': #humans\n",
        "    baseX,baseY,baseZ = 45.0, 63.0, 36.0\n",
        "    resolution = 2\n",
        "  return baseX,baseY,baseZ,resolution\n",
        "\n",
        "minY,maxY = -0.14,0.175 #Minimum and maximum for Y axis\n",
        "minDuration,maxDuration = 3.52,5.52 #durations\n",
        "startTime,endTime,timeStep = -1.0,12.0,0.02  #variables for the plot\n",
        "timeLine = np.arange(startTime,endTime+timeStep,timeStep)\n",
        "\n",
        "imagePathD = '/content/BarneyBrain2mm.nii.gz'\n",
        "atlasFileD = 'Barney2mm'\n",
        "minXD,maxXD,minYD,maxYD,minZD,maxZD = -27,28,-59,41,-18,31\n",
        "iniXD,iniYD,iniZD = 0,-29,20\n",
        "vminD,vmaxD=29.0,1683.0\n",
        "\n",
        "imagePathH = '/content/MNI152_T1_2mm_brain.nii.gz'\n",
        "atlasFileH = 'MNI2mm'\n",
        "minXH,maxXH,minYH,maxYH,minZH,maxZH = -83,83,-110,82,-50,80\n",
        "iniXH,iniYH,iniZH = 44,-74,-2\n",
        "vminH,vmaxH=0.0,8339.0\n",
        "\n",
        "#Loading images to be used as background\n",
        "imgD = image.load_img(imagePathD) \n",
        "imgH = image.load_img(imagePathH)"
      ],
      "execution_count": 7,
      "outputs": []
    },
    {
      "cell_type": "markdown",
      "metadata": {
        "id": "lRBaiBp-tNBM"
      },
      "source": [
        "# Select a coordinate to plot the hemodynamic response"
      ]
    },
    {
      "cell_type": "markdown",
      "source": [
        "The figure shows the location of the x,y,z coordinates in the dog and human brain. The plot below shows the brain response in those coordinates. The responses are aligned to the onset of the video."
      ],
      "metadata": {
        "id": "ElA1yb9zZ4UB"
      }
    },
    {
      "cell_type": "code",
      "source": [
        "#@title\n",
        "col1 = VBox([widgets.IntSlider(min=minXD, max=maxXD, step=1, value=iniXD, description='X in dog'),\n",
        "                    widgets.IntSlider(min=minYD, max=maxYD, step=1, value=iniYD, description='Y in dog'),\n",
        "                    widgets.IntSlider(min=minZD, max=maxZD, step=1, value=iniZD, description='Z in dog')])\n",
        "\n",
        "col2 = VBox([widgets.IntSlider(min=minXH, max=maxXH, step=1, value=iniXH, description='X in human'),\n",
        "                    widgets.IntSlider(min=minYH, max=maxYH, step=1, value=iniYH, description='Y in human'),\n",
        "                    widgets.IntSlider(min=minZH, max=maxZH, step=1, value=iniZH, description='Z in human')])\n",
        "\n",
        "out = widgets.interactive_output(plotBrain, {'xD':col1.children[0], 'yD':col1.children[1], 'zD':col1.children[2], \n",
        "                                'xH':col2.children[0], 'yH':col2.children[1], 'zH':col2.children[2]})\n",
        "\n",
        "display(HBox([col1, col2]), out)"
      ],
      "metadata": {
        "colab": {
          "base_uri": "https://localhost:8080/",
          "height": 853,
          "referenced_widgets": [
            "f10ddee074a641c09672317225c54eba",
            "25d4405a0c3941cfb965ebf13eb78a76",
            "12707c77d0134561be231126846c339e",
            "86eb5ab4f6584a93aed6e08b56d410b0",
            "01499f91811a4430b0553fe40100b5d7",
            "d4e6cacfd0344c27bd8c81b1084ea537",
            "c7c28d3bb0dd44a194f0f15ae5b2fa70",
            "8548e3bff3284e7190bb2eaf438808f7",
            "214c37c15d07428abc30c502c3ac38ee",
            "00aaa5fb239e46beabfb31cc3642add7",
            "3474ed1855864a8f972c62a753c69dc9",
            "d04a71caf1984f2e858ffc8ac70ed5d4",
            "f1b5ff835e194492bcd6b458ed49a345",
            "54fcb6f5673d432bba712db6bfb81581",
            "1c7aa6357e674f36a3b76c0d148c3ab4",
            "a8da58e5c9534dac83534ebbc190d844",
            "4dbb6e75a26d4494ae57e81ca9a2b323",
            "88393f2fe9bb4cb49a57b70e5b68154b",
            "880826b363304582bb3ace0559cc7391",
            "2482030c322643d8921e9936635a062a",
            "a1085ebd32d2463eabc1dd9d613b4d83",
            "5ebd2415a2d741dc9883b6704826e431",
            "2af6f21c399d4c228e080eac1fec494f",
            "572c14e2018c4aadb2efea4606e3b148",
            "4ae1daf2e00342d7b553518a75df8a22",
            "d0302222f8b04ac9a0a061a251bd2c58"
          ]
        },
        "cellView": "form",
        "id": "TPeTGqpMGaaW",
        "outputId": "1a6af386-bf3b-4053-d6fe-3b68c89c15ca"
      },
      "execution_count": 8,
      "outputs": [
        {
          "output_type": "display_data",
          "data": {
            "text/plain": [
              "HBox(children=(VBox(children=(IntSlider(value=0, description='X in dog', max=28, min=-27), IntSlider(value=-29…"
            ],
            "application/vnd.jupyter.widget-view+json": {
              "version_major": 2,
              "version_minor": 0,
              "model_id": "f10ddee074a641c09672317225c54eba"
            }
          },
          "metadata": {}
        },
        {
          "output_type": "display_data",
          "data": {
            "text/plain": [
              "Output()"
            ],
            "application/vnd.jupyter.widget-view+json": {
              "version_major": 2,
              "version_minor": 0,
              "model_id": "4ae1daf2e00342d7b553518a75df8a22"
            }
          },
          "metadata": {}
        }
      ]
    }
  ]
}